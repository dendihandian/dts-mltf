version https://git-lfs.github.com/spec/v1
oid sha256:6ff47dea0ba1f3cfd3997eef2d75c636d92adb0a161f30cba4613de87b6e5cd4
size 15091
